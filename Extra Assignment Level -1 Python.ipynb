{
 "cells": [
  {
   "cell_type": "code",
   "execution_count": 4,
   "id": "cc1b5ac6",
   "metadata": {},
   "outputs": [
    {
     "name": "stdout",
     "output_type": "stream",
     "text": [
      "HOPE AI\n"
     ]
    }
   ],
   "source": [
    "print(\"HOPE AI\")"
   ]
  },
  {
   "cell_type": "code",
   "execution_count": 5,
   "id": "cc8e5ff7",
   "metadata": {},
   "outputs": [
    {
     "name": "stdout",
     "output_type": "stream",
     "text": [
      "Enter your institute name?:HOPE AI\n"
     ]
    }
   ],
   "source": [
    "InsName=input(\"Enter your institute name?:\")"
   ]
  },
  {
   "cell_type": "code",
   "execution_count": 8,
   "id": "6fb400ba",
   "metadata": {},
   "outputs": [
    {
     "name": "stdout",
     "output_type": "stream",
     "text": [
      "Enter your name:Raj\n",
      "Enter your age:15\n",
      "Enter your school name:Guru School\n",
      "Enter your degree:B.E CSE\n"
     ]
    }
   ],
   "source": [
    "name=input(\"Enter your name:\")\n",
    "age=input(\"Enter your age:\")\n",
    "schoolname=input(\"Enter your school name:\")\n",
    "degree=input(\"Enter your degree:\")\n"
   ]
  },
  {
   "cell_type": "code",
   "execution_count": 9,
   "id": "3003c2ae",
   "metadata": {},
   "outputs": [
    {
     "name": "stdout",
     "output_type": "stream",
     "text": [
      "a=: 43\n",
      "b=: 34\n",
      "Add: 77\n"
     ]
    }
   ],
   "source": [
    "a=43\n",
    "b=34\n",
    "print(\"a=:\",a)\n",
    "print(\"b=:\",b)\n",
    "print(\"Add:\",a+b)"
   ]
  },
  {
   "cell_type": "code",
   "execution_count": 10,
   "id": "c06e3b23",
   "metadata": {},
   "outputs": [
    {
     "name": "stdout",
     "output_type": "stream",
     "text": [
      "a=: 43\n",
      "b=: 34\n",
      "Sub=: 9\n"
     ]
    }
   ],
   "source": [
    "a=43\n",
    "b=34\n",
    "print(\"a=:\",a)\n",
    "print(\"b=:\",b)\n",
    "print(\"Sub=:\",a-b)"
   ]
  },
  {
   "cell_type": "code",
   "execution_count": 11,
   "id": "4da50c6f",
   "metadata": {},
   "outputs": [
    {
     "name": "stdout",
     "output_type": "stream",
     "text": [
      "a=: 63\n",
      "b=: 97\n",
      "Mul=: 6111\n"
     ]
    }
   ],
   "source": [
    "a=63\n",
    "b=97\n",
    "print(\"a=:\",a)\n",
    "print(\"b=:\",b)\n",
    "print(\"Mul=:\",a*b)"
   ]
  },
  {
   "cell_type": "code",
   "execution_count": 12,
   "id": "683a0271",
   "metadata": {},
   "outputs": [
    {
     "name": "stdout",
     "output_type": "stream",
     "text": [
      "a=: 76\n",
      "b=: 31\n",
      "Float Div=: 2.4516129032258065\n"
     ]
    }
   ],
   "source": [
    "a=76\n",
    "b=31\n",
    "print(\"a=:\",a)\n",
    "print(\"b=:\",b)\n",
    "print(\"Float Div=:\",a/b)"
   ]
  },
  {
   "cell_type": "code",
   "execution_count": 13,
   "id": "f5df76ce",
   "metadata": {},
   "outputs": [
    {
     "name": "stdout",
     "output_type": "stream",
     "text": [
      "a=: 76\n",
      "b=: 31\n",
      "Floor Div=: 2\n"
     ]
    }
   ],
   "source": [
    "a=76\n",
    "b=31\n",
    "print(\"a=:\",a)\n",
    "print(\"b=:\",b)\n",
    "print(\"Floor Div=:\",a//b)"
   ]
  },
  {
   "cell_type": "code",
   "execution_count": 14,
   "id": "45c95701",
   "metadata": {},
   "outputs": [
    {
     "name": "stdout",
     "output_type": "stream",
     "text": [
      "a=: 76\n",
      "b=: 31\n",
      "Modulo=: 14\n"
     ]
    }
   ],
   "source": [
    "a=76\n",
    "b=31\n",
    "print(\"a=:\",a)\n",
    "print(\"b=:\",b)\n",
    "print(\"Modulo=:\",a%b)"
   ]
  },
  {
   "cell_type": "code",
   "execution_count": 15,
   "id": "072b02dd",
   "metadata": {},
   "outputs": [
    {
     "name": "stdout",
     "output_type": "stream",
     "text": [
      "a=: 4\n",
      "b=: 4\n",
      "Power=: 256\n"
     ]
    }
   ],
   "source": [
    "a=4\n",
    "b=4\n",
    "print(\"a=:\",a)\n",
    "print(\"b=:\",b)\n",
    "print(\"Power=:\",a**b)"
   ]
  },
  {
   "cell_type": "code",
   "execution_count": null,
   "id": "eca8885b",
   "metadata": {},
   "outputs": [],
   "source": []
  }
 ],
 "metadata": {
  "kernelspec": {
   "display_name": "Python 3 (ipykernel)",
   "language": "python",
   "name": "python3"
  },
  "language_info": {
   "codemirror_mode": {
    "name": "ipython",
    "version": 3
   },
   "file_extension": ".py",
   "mimetype": "text/x-python",
   "name": "python",
   "nbconvert_exporter": "python",
   "pygments_lexer": "ipython3",
   "version": "3.11.5"
  }
 },
 "nbformat": 4,
 "nbformat_minor": 5
}
