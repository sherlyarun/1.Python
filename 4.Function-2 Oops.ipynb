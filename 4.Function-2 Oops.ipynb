{
 "cells": [
  {
   "cell_type": "code",
   "execution_count": 1,
   "id": "a360d532",
   "metadata": {},
   "outputs": [
    {
     "name": "stdout",
     "output_type": "stream",
     "text": [
      "Enter the Age:45\n"
     ]
    }
   ],
   "source": [
    "age=int(input(\"Enter the Age:\"))"
   ]
  },
  {
   "cell_type": "code",
   "execution_count": 10,
   "id": "a865cba0",
   "metadata": {},
   "outputs": [],
   "source": [
    "def AgeCategory():\n",
    "        if(age<18):\n",
    "            print(\"Children\")\n",
    "            cate=\"Children\"\n",
    "        elif(age<35):\n",
    "            print(\"Adult\")\n",
    "            cate=\"Adult\"\n",
    "        elif(age<59):\n",
    "            print(\"Citizen\")\n",
    "            cate=\"Citizen\"\n",
    "        else:\n",
    "            print(\"Senior citizen\")\n",
    "            cate=\"Senior citizen\"\n",
    "        return cate    "
   ]
  },
  {
   "cell_type": "code",
   "execution_count": 3,
   "id": "9f39d0d7",
   "metadata": {},
   "outputs": [
    {
     "name": "stdout",
     "output_type": "stream",
     "text": [
      "Citizen\n"
     ]
    },
    {
     "data": {
      "text/plain": [
       "'Citizen'"
      ]
     },
     "execution_count": 3,
     "metadata": {},
     "output_type": "execute_result"
    }
   ],
   "source": [
    "AgeCategory()"
   ]
  },
  {
   "cell_type": "code",
   "execution_count": 4,
   "id": "ff87a4dc",
   "metadata": {},
   "outputs": [
    {
     "name": "stdout",
     "output_type": "stream",
     "text": [
      "Citizen\n"
     ]
    }
   ],
   "source": [
    "agecate=AgeCategory()"
   ]
  },
  {
   "cell_type": "code",
   "execution_count": 9,
   "id": "34ddb0f0",
   "metadata": {},
   "outputs": [
    {
     "name": "stdout",
     "output_type": "stream",
     "text": [
      "Enter the Age:10\n",
      "Children\n"
     ]
    }
   ],
   "source": [
    "age=int(input(\"Enter the Age:\"))\n",
    "agecate=AgeCategory()"
   ]
  },
  {
   "cell_type": "code",
   "execution_count": null,
   "id": "75e949a0",
   "metadata": {},
   "outputs": [],
   "source": []
  }
 ],
 "metadata": {
  "kernelspec": {
   "display_name": "Python 3 (ipykernel)",
   "language": "python",
   "name": "python3"
  },
  "language_info": {
   "codemirror_mode": {
    "name": "ipython",
    "version": 3
   },
   "file_extension": ".py",
   "mimetype": "text/x-python",
   "name": "python",
   "nbconvert_exporter": "python",
   "pygments_lexer": "ipython3",
   "version": "3.11.5"
  }
 },
 "nbformat": 4,
 "nbformat_minor": 5
}
