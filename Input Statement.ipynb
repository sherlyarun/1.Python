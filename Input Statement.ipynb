{
 "cells": [
  {
   "cell_type": "markdown",
   "id": "a67d85d6",
   "metadata": {},
   "source": [
    "num1=int(input(\"Enter the num1:\"))"
   ]
  },
  {
   "cell_type": "code",
   "execution_count": 1,
   "id": "eebe105e",
   "metadata": {},
   "outputs": [
    {
     "name": "stdout",
     "output_type": "stream",
     "text": [
      "Enter the num1:20\n"
     ]
    }
   ],
   "source": [
    "num1=int(input(\"Enter the num1:\"))"
   ]
  },
  {
   "cell_type": "code",
   "execution_count": 2,
   "id": "26374185",
   "metadata": {},
   "outputs": [
    {
     "name": "stdout",
     "output_type": "stream",
     "text": [
      "Enter the num2:60\n"
     ]
    }
   ],
   "source": [
    "num2=int(input(\"Enter the num2:\"))"
   ]
  },
  {
   "cell_type": "code",
   "execution_count": 3,
   "id": "ee9e24e1",
   "metadata": {},
   "outputs": [
    {
     "name": "stdout",
     "output_type": "stream",
     "text": [
      "80\n"
     ]
    }
   ],
   "source": [
    "add=num1+num2\n",
    "print(add)"
   ]
  },
  {
   "cell_type": "code",
   "execution_count": 4,
   "id": "db0cf2ec",
   "metadata": {},
   "outputs": [
    {
     "name": "stdout",
     "output_type": "stream",
     "text": [
      "Enter your name5\n"
     ]
    }
   ],
   "source": [
    "num=int(input(\"Enter your name\"))"
   ]
  },
  {
   "cell_type": "code",
   "execution_count": null,
   "id": "0f3311f4",
   "metadata": {},
   "outputs": [],
   "source": []
  }
 ],
 "metadata": {
  "kernelspec": {
   "display_name": "Python 3 (ipykernel)",
   "language": "python",
   "name": "python3"
  },
  "language_info": {
   "codemirror_mode": {
    "name": "ipython",
    "version": 3
   },
   "file_extension": ".py",
   "mimetype": "text/x-python",
   "name": "python",
   "nbconvert_exporter": "python",
   "pygments_lexer": "ipython3",
   "version": "3.11.5"
  }
 },
 "nbformat": 4,
 "nbformat_minor": 5
}
