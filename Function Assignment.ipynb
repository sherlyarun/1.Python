{
 "cells": [
  {
   "cell_type": "code",
   "execution_count": 1,
   "id": "d43488f7",
   "metadata": {},
   "outputs": [
    {
     "name": "stdout",
     "output_type": "stream",
     "text": [
      "Subfields in AI are:\n",
      "Machine Learning\n",
      "Neural Network\n",
      "Vision\n",
      "Robotics\n",
      "Speech Processing\n",
      "Natural Language Processing\n"
     ]
    }
   ],
   "source": [
    "def subfields():\n",
    "    print(\"Subfields in AI are:\")\n",
    "    list=[\"Machine Learning\",\"Neural Network\",\"Vision\",\"Robotics\",\"Speech Processing\",\"Natural Language Processing\"]\n",
    "    for temp in list:\n",
    "        print(temp)\n",
    "subfields()        "
   ]
  },
  {
   "cell_type": "code",
   "execution_count": 3,
   "id": "34797db6",
   "metadata": {},
   "outputs": [
    {
     "name": "stdout",
     "output_type": "stream",
     "text": [
      "Enter a number:52452\n",
      "52452 is Even number\n"
     ]
    },
    {
     "data": {
      "text/plain": [
       "'Even number'"
      ]
     },
     "execution_count": 3,
     "metadata": {},
     "output_type": "execute_result"
    }
   ],
   "source": [
    "def OddEven():\n",
    "    num=int(input(\"Enter a number:\"))\n",
    "    if((num%2)==0):\n",
    "        print(num,\"is Even number\")\n",
    "        message=\"Even number\"\n",
    "    else:\n",
    "        print(num,\"is Odd number\")\n",
    "        message=\"Odd number\"\n",
    "    return message\n",
    "OddEven()"
   ]
  },
  {
   "cell_type": "code",
   "execution_count": 5,
   "id": "878e6fa0",
   "metadata": {},
   "outputs": [
    {
     "name": "stdout",
     "output_type": "stream",
     "text": [
      "Your Gender:male\n",
      "Your Age:20\n"
     ]
    },
    {
     "data": {
      "text/plain": [
       "'NOT ELEGIBLE'"
      ]
     },
     "execution_count": 5,
     "metadata": {},
     "output_type": "execute_result"
    }
   ],
   "source": [
    "def Elegible():\n",
    "    sex=input(\"Your Gender:\")\n",
    "    age=int(input(\"Your Age:\"))\n",
    "    if(age<25):\n",
    "        message=\"NOT ELEGIBLE\"\n",
    "    return message\n",
    "Elegible()"
   ]
  },
  {
   "cell_type": "code",
   "execution_count": 12,
   "id": "cfd757f1",
   "metadata": {},
   "outputs": [
    {
     "name": "stdout",
     "output_type": "stream",
     "text": [
      "Subject1:98\n",
      "Subject2:87\n",
      "Subject3:95\n",
      "Subject4:95\n",
      "Subject5:93\n",
      "Total: 468\n",
      "percentage= 93.60000000000001\n"
     ]
    }
   ],
   "source": [
    "def percentage():\n",
    "    sub1=int(input(\"Subject1:\"))\n",
    "    sub2=int(input(\"Subject2:\"))\n",
    "    sub3=int(input(\"Subject3:\"))\n",
    "    sub4=int(input(\"Subject4:\"))\n",
    "    sub5=int(input(\"Subject5:\"))\n",
    "    total=sub1+sub2+sub3+sub4+sub5\n",
    "    print(\"Total:\",total)\n",
    "    per=total/500*100\n",
    "    print(\"percentage=\",per)  \n",
    "percentage()"
   ]
  },
  {
   "cell_type": "code",
   "execution_count": 11,
   "id": "d7a15d2a",
   "metadata": {},
   "outputs": [
    {
     "name": "stdout",
     "output_type": "stream",
     "text": [
      "Height32\n",
      "Breadth:34\n",
      "Area of Triangle: 544.0\n",
      "Height1:2\n",
      "Height2:4\n",
      "Breadth:4\n",
      "Perimeter of Triangle: 10\n"
     ]
    }
   ],
   "source": [
    "def triangle():\n",
    "    height=int(input(\"Height\"))\n",
    "    breadth=int(input(\"Breadth:\"))\n",
    "    area=(height*breadth)/2\n",
    "    print(\"Area of Triangle:\",area)\n",
    "    height1=int(input(\"Height1:\"))\n",
    "    height2=int(input(\"Height2:\"))\n",
    "    breadth=int(input(\"Breadth:\"))\n",
    "    perimeter=height1+height2+breadth\n",
    "    print(\"Perimeter of Triangle:\",perimeter)\n",
    "triangle()\n",
    "    "
   ]
  },
  {
   "cell_type": "code",
   "execution_count": null,
   "id": "a9b02e09",
   "metadata": {},
   "outputs": [],
   "source": []
  }
 ],
 "metadata": {
  "kernelspec": {
   "display_name": "Python 3 (ipykernel)",
   "language": "python",
   "name": "python3"
  },
  "language_info": {
   "codemirror_mode": {
    "name": "ipython",
    "version": 3
   },
   "file_extension": ".py",
   "mimetype": "text/x-python",
   "name": "python",
   "nbconvert_exporter": "python",
   "pygments_lexer": "ipython3",
   "version": "3.11.5"
  }
 },
 "nbformat": 4,
 "nbformat_minor": 5
}
