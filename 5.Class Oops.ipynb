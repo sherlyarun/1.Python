{
 "cells": [
  {
   "cell_type": "code",
   "execution_count": 4,
   "id": "ec189ece",
   "metadata": {},
   "outputs": [],
   "source": [
    "class multipleFunctions():\n",
    "    def oddEven():\n",
    "        num=int(input(\"Enter the number:\"))\n",
    "        if((num%2)==1):\n",
    "            print(\"Odd number\")\n",
    "            message=\"Odd number\"\n",
    "        else:\n",
    "            print(\"Even number\")\n",
    "            message=\"Even number\"\n",
    "        return message\n",
    "    def BMI():\n",
    "        BMI=int(input(\"Enter the BMI index:\"))\n",
    "        if(BMI<18.5):\n",
    "            print(\"Under Weight\")\n",
    "            message=\"Under Weight\"\n",
    "        if(BMI<24.9):\n",
    "            print(\"Normal\")\n",
    "            message=\"Normal\"\n",
    "        if(BMI<29.9):\n",
    "            print(\"Over Weight\")\n",
    "            message=\"Over Weight\"\n",
    "        else:\n",
    "            print(\"Very Overweight\")\n",
    "            message=\"Very Overweight\"\n",
    "        return message\n"
   ]
  },
  {
   "cell_type": "code",
   "execution_count": 3,
   "id": "fc82d16d",
   "metadata": {},
   "outputs": [
    {
     "name": "stdout",
     "output_type": "stream",
     "text": [
      "Enter the BMI index:25\n",
      "Over Weight\n"
     ]
    },
    {
     "data": {
      "text/plain": [
       "'Over Weight'"
      ]
     },
     "execution_count": 3,
     "metadata": {},
     "output_type": "execute_result"
    }
   ],
   "source": [
    "multipleFunctions.BMI()"
   ]
  },
  {
   "cell_type": "code",
   "execution_count": 5,
   "id": "cfa76719",
   "metadata": {},
   "outputs": [
    {
     "name": "stdout",
     "output_type": "stream",
     "text": [
      "Enter the number:56\n",
      "Even number\n"
     ]
    },
    {
     "data": {
      "text/plain": [
       "'Even number'"
      ]
     },
     "execution_count": 5,
     "metadata": {},
     "output_type": "execute_result"
    }
   ],
   "source": [
    "multipleFunctions.oddEven()"
   ]
  },
  {
   "cell_type": "code",
   "execution_count": null,
   "id": "e06a33b8",
   "metadata": {},
   "outputs": [],
   "source": []
  }
 ],
 "metadata": {
  "kernelspec": {
   "display_name": "Python 3 (ipykernel)",
   "language": "python",
   "name": "python3"
  },
  "language_info": {
   "codemirror_mode": {
    "name": "ipython",
    "version": 3
   },
   "file_extension": ".py",
   "mimetype": "text/x-python",
   "name": "python",
   "nbconvert_exporter": "python",
   "pygments_lexer": "ipython3",
   "version": "3.11.5"
  }
 },
 "nbformat": 4,
 "nbformat_minor": 5
}
