{
 "cells": [
  {
   "cell_type": "code",
   "execution_count": 1,
   "id": "53499d1e",
   "metadata": {},
   "outputs": [
    {
     "name": "stdout",
     "output_type": "stream",
     "text": [
      "Enter the number:2\n",
      "even number\n"
     ]
    },
    {
     "data": {
      "text/plain": [
       "'even number'"
      ]
     },
     "execution_count": 1,
     "metadata": {},
     "output_type": "execute_result"
    }
   ],
   "source": [
    "def oddEven():\n",
    "    num=int(input(\"Enter the number:\"))\n",
    "    if((num%2)==1):\n",
    "        print(\"odd number\")\n",
    "        message=\"odd number\"\n",
    "    else:\n",
    "        print(\"even number\")\n",
    "        message=\"even number\"\n",
    "    return message\n"
   ]
  },
  {
   "cell_type": "code",
   "execution_count": 2,
   "id": "40fdbbf7",
   "metadata": {},
   "outputs": [
    {
     "name": "stdout",
     "output_type": "stream",
     "text": [
      "Enter the number:5\n",
      "odd number\n"
     ]
    }
   ],
   "source": [
    "message=oddEven()"
   ]
  },
  {
   "cell_type": "code",
   "execution_count": 3,
   "id": "161a8b7f",
   "metadata": {},
   "outputs": [
    {
     "name": "stdout",
     "output_type": "stream",
     "text": [
      "The given number is Odd\n"
     ]
    }
   ],
   "source": [
    "if(message==\"Even Number\"):\n",
    "    print(\"The given number is Even\")\n",
    "else:\n",
    "    print(\"The given number is Odd\")"
   ]
  },
  {
   "cell_type": "code",
   "execution_count": 4,
   "id": "fd2feeef",
   "metadata": {},
   "outputs": [
    {
     "name": "stdout",
     "output_type": "stream",
     "text": [
      "Enter the BMI index:34\n",
      "Very Overweight\n"
     ]
    }
   ],
   "source": [
    "def BMI():\n",
    "    BMI=int(input(\"Enter the BMI index:\"))\n",
    "    if(BMI<18.5):\n",
    "        print(\"Underweight\")\n",
    "        message=\"Underweight\"\n",
    "    elif(BMI<24.9):\n",
    "        print(\"Normal\")\n",
    "        message=\"Normal\"\n",
    "    elif(BMI<29.9):\n",
    "        print(\"Overweight\")\n",
    "        message=\"Overweight\"\n",
    "    else:\n",
    "        print(\"Very Overweight\")\n",
    "        message=\"Very Overweight\"\n",
    "    return message   \n",
    "bmi=BMI()"
   ]
  },
  {
   "cell_type": "code",
   "execution_count": 5,
   "id": "df7090f9",
   "metadata": {},
   "outputs": [
    {
     "data": {
      "text/plain": [
       "'Very Overweight'"
      ]
     },
     "execution_count": 5,
     "metadata": {},
     "output_type": "execute_result"
    }
   ],
   "source": [
    "bmi"
   ]
  },
  {
   "cell_type": "code",
   "execution_count": 7,
   "id": "180f0e4d",
   "metadata": {},
   "outputs": [],
   "source": [
    "def addition(num1,num2):\n",
    "    add=num1+num2\n",
    "    return add"
   ]
  },
  {
   "cell_type": "code",
   "execution_count": 8,
   "id": "16c17620",
   "metadata": {},
   "outputs": [
    {
     "data": {
      "text/plain": [
       "9"
      ]
     },
     "execution_count": 8,
     "metadata": {},
     "output_type": "execute_result"
    }
   ],
   "source": [
    "addition(5,4)    "
   ]
  },
  {
   "cell_type": "code",
   "execution_count": 10,
   "id": "84899ce3",
   "metadata": {},
   "outputs": [],
   "source": [
    "def subtraction(num1,num2):\n",
    "    sub=num1-num2\n",
    "    return sub"
   ]
  },
  {
   "cell_type": "code",
   "execution_count": 11,
   "id": "197e04e9",
   "metadata": {},
   "outputs": [
    {
     "data": {
      "text/plain": [
       "-3"
      ]
     },
     "execution_count": 11,
     "metadata": {},
     "output_type": "execute_result"
    }
   ],
   "source": [
    "subtraction(6,9)"
   ]
  },
  {
   "cell_type": "code",
   "execution_count": null,
   "id": "1470f7cf",
   "metadata": {},
   "outputs": [],
   "source": []
  }
 ],
 "metadata": {
  "kernelspec": {
   "display_name": "Python 3 (ipykernel)",
   "language": "python",
   "name": "python3"
  },
  "language_info": {
   "codemirror_mode": {
    "name": "ipython",
    "version": 3
   },
   "file_extension": ".py",
   "mimetype": "text/x-python",
   "name": "python",
   "nbconvert_exporter": "python",
   "pygments_lexer": "ipython3",
   "version": "3.11.5"
  }
 },
 "nbformat": 4,
 "nbformat_minor": 5
}
